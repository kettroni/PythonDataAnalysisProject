{
 "cells": [
  {
   "cell_type": "markdown",
   "metadata": {},
   "source": [
    "# Linear regression"
   ]
  },
  {
   "cell_type": "markdown",
   "metadata": {},
   "source": [
    "Import all the modules you will need in this notebook here:"
   ]
  },
  {
   "cell_type": "code",
   "execution_count": 1,
   "metadata": {},
   "outputs": [],
   "source": [
    "# exercise 0\n",
    "# Put your solution here!\n",
    "import numpy as np\n",
    "import matplotlib.pyplot as plt\n",
    "import statsmodels\n",
    "import statsmodels.api as sm\n",
    "import statsmodels.formula.api as smf\n",
    "# plots a line given an intercept and a slope\n",
    "from statsmodels.graphics.regressionplots import abline_plot\n",
    "import pandas as pd"
   ]
  },
  {
   "cell_type": "markdown",
   "metadata": {},
   "source": [
    "We continue analysing the `fram` heart disease data.\n",
    "\n",
    "First load the data, use the name `fram` for the DataFrame variable. Make sure that in the data you loaded the column and row headers are in place. Checkout the summary of the variables using the `describe` method."
   ]
  },
  {
   "cell_type": "code",
   "execution_count": 2,
   "metadata": {},
   "outputs": [
    {
     "data": {
      "text/html": [
       "<div>\n",
       "<style scoped>\n",
       "    .dataframe tbody tr th:only-of-type {\n",
       "        vertical-align: middle;\n",
       "    }\n",
       "\n",
       "    .dataframe tbody tr th {\n",
       "        vertical-align: top;\n",
       "    }\n",
       "\n",
       "    .dataframe thead th {\n",
       "        text-align: right;\n",
       "    }\n",
       "</style>\n",
       "<table border=\"1\" class=\"dataframe\">\n",
       "  <thead>\n",
       "    <tr style=\"text-align: right;\">\n",
       "      <th></th>\n",
       "      <th>ID</th>\n",
       "      <th>AGE</th>\n",
       "      <th>FRW</th>\n",
       "      <th>SBP</th>\n",
       "      <th>SBP10</th>\n",
       "      <th>DBP</th>\n",
       "      <th>CHOL</th>\n",
       "      <th>CIG</th>\n",
       "      <th>CHD</th>\n",
       "      <th>DEATH</th>\n",
       "      <th>YRS_DTH</th>\n",
       "    </tr>\n",
       "  </thead>\n",
       "  <tbody>\n",
       "    <tr>\n",
       "      <th>count</th>\n",
       "      <td>1394.000000</td>\n",
       "      <td>1394.000000</td>\n",
       "      <td>1394.000000</td>\n",
       "      <td>1394.000000</td>\n",
       "      <td>767.000000</td>\n",
       "      <td>1394.000000</td>\n",
       "      <td>1394.000000</td>\n",
       "      <td>1394.000000</td>\n",
       "      <td>1394.000000</td>\n",
       "      <td>1394.000000</td>\n",
       "      <td>1394.000000</td>\n",
       "    </tr>\n",
       "    <tr>\n",
       "      <th>mean</th>\n",
       "      <td>4737.184362</td>\n",
       "      <td>52.431133</td>\n",
       "      <td>105.365136</td>\n",
       "      <td>148.086083</td>\n",
       "      <td>148.040417</td>\n",
       "      <td>90.135581</td>\n",
       "      <td>234.644907</td>\n",
       "      <td>8.029412</td>\n",
       "      <td>1.187948</td>\n",
       "      <td>1.700861</td>\n",
       "      <td>16.219512</td>\n",
       "    </tr>\n",
       "    <tr>\n",
       "      <th>std</th>\n",
       "      <td>1073.406896</td>\n",
       "      <td>4.781507</td>\n",
       "      <td>17.752489</td>\n",
       "      <td>28.022062</td>\n",
       "      <td>25.706664</td>\n",
       "      <td>14.226235</td>\n",
       "      <td>46.303822</td>\n",
       "      <td>11.584138</td>\n",
       "      <td>2.615976</td>\n",
       "      <td>3.203132</td>\n",
       "      <td>3.921413</td>\n",
       "    </tr>\n",
       "    <tr>\n",
       "      <th>min</th>\n",
       "      <td>1070.000000</td>\n",
       "      <td>45.000000</td>\n",
       "      <td>52.000000</td>\n",
       "      <td>90.000000</td>\n",
       "      <td>94.000000</td>\n",
       "      <td>50.000000</td>\n",
       "      <td>96.000000</td>\n",
       "      <td>0.000000</td>\n",
       "      <td>0.000000</td>\n",
       "      <td>0.000000</td>\n",
       "      <td>1.000000</td>\n",
       "    </tr>\n",
       "    <tr>\n",
       "      <th>25%</th>\n",
       "      <td>3890.250000</td>\n",
       "      <td>48.000000</td>\n",
       "      <td>94.000000</td>\n",
       "      <td>130.000000</td>\n",
       "      <td>130.000000</td>\n",
       "      <td>80.000000</td>\n",
       "      <td>200.000000</td>\n",
       "      <td>0.000000</td>\n",
       "      <td>0.000000</td>\n",
       "      <td>0.000000</td>\n",
       "      <td>18.000000</td>\n",
       "    </tr>\n",
       "    <tr>\n",
       "      <th>50%</th>\n",
       "      <td>4821.000000</td>\n",
       "      <td>52.000000</td>\n",
       "      <td>103.000000</td>\n",
       "      <td>142.000000</td>\n",
       "      <td>145.000000</td>\n",
       "      <td>90.000000</td>\n",
       "      <td>230.000000</td>\n",
       "      <td>0.000000</td>\n",
       "      <td>0.000000</td>\n",
       "      <td>0.000000</td>\n",
       "      <td>18.000000</td>\n",
       "    </tr>\n",
       "    <tr>\n",
       "      <th>75%</th>\n",
       "      <td>5641.750000</td>\n",
       "      <td>56.000000</td>\n",
       "      <td>114.000000</td>\n",
       "      <td>160.000000</td>\n",
       "      <td>160.000000</td>\n",
       "      <td>98.000000</td>\n",
       "      <td>264.000000</td>\n",
       "      <td>20.000000</td>\n",
       "      <td>0.000000</td>\n",
       "      <td>0.000000</td>\n",
       "      <td>18.000000</td>\n",
       "    </tr>\n",
       "    <tr>\n",
       "      <th>max</th>\n",
       "      <td>6442.000000</td>\n",
       "      <td>62.000000</td>\n",
       "      <td>222.000000</td>\n",
       "      <td>300.000000</td>\n",
       "      <td>264.000000</td>\n",
       "      <td>160.000000</td>\n",
       "      <td>430.000000</td>\n",
       "      <td>60.000000</td>\n",
       "      <td>10.000000</td>\n",
       "      <td>10.000000</td>\n",
       "      <td>18.000000</td>\n",
       "    </tr>\n",
       "  </tbody>\n",
       "</table>\n",
       "</div>"
      ],
      "text/plain": [
       "                ID          AGE          FRW          SBP       SBP10  \\\n",
       "count  1394.000000  1394.000000  1394.000000  1394.000000  767.000000   \n",
       "mean   4737.184362    52.431133   105.365136   148.086083  148.040417   \n",
       "std    1073.406896     4.781507    17.752489    28.022062   25.706664   \n",
       "min    1070.000000    45.000000    52.000000    90.000000   94.000000   \n",
       "25%    3890.250000    48.000000    94.000000   130.000000  130.000000   \n",
       "50%    4821.000000    52.000000   103.000000   142.000000  145.000000   \n",
       "75%    5641.750000    56.000000   114.000000   160.000000  160.000000   \n",
       "max    6442.000000    62.000000   222.000000   300.000000  264.000000   \n",
       "\n",
       "               DBP         CHOL          CIG          CHD        DEATH  \\\n",
       "count  1394.000000  1394.000000  1394.000000  1394.000000  1394.000000   \n",
       "mean     90.135581   234.644907     8.029412     1.187948     1.700861   \n",
       "std      14.226235    46.303822    11.584138     2.615976     3.203132   \n",
       "min      50.000000    96.000000     0.000000     0.000000     0.000000   \n",
       "25%      80.000000   200.000000     0.000000     0.000000     0.000000   \n",
       "50%      90.000000   230.000000     0.000000     0.000000     0.000000   \n",
       "75%      98.000000   264.000000    20.000000     0.000000     0.000000   \n",
       "max     160.000000   430.000000    60.000000    10.000000    10.000000   \n",
       "\n",
       "           YRS_DTH  \n",
       "count  1394.000000  \n",
       "mean     16.219512  \n",
       "std       3.921413  \n",
       "min       1.000000  \n",
       "25%      18.000000  \n",
       "50%      18.000000  \n",
       "75%      18.000000  \n",
       "max      18.000000  "
      ]
     },
     "execution_count": 2,
     "metadata": {},
     "output_type": "execute_result"
    }
   ],
   "source": [
    "# exercise 1\n",
    "def get_path(filename):\n",
    "    import sys\n",
    "    import os\n",
    "    prog_name = sys.argv[0]\n",
    "    if os.path.basename(prog_name) == \"__main__.py\":   # Running under TMC\n",
    "        return os.path.join(os.path.dirname(prog_name), \"..\", \"src\", filename)\n",
    "    else:\n",
    "        return filename\n",
    "    \n",
    "# Put your solution here!\n",
    "fram = pd.read_csv(get_path('fram.txt'), sep='\\t')\n",
    "fram.describe()"
   ]
  },
  {
   "cell_type": "markdown",
   "metadata": {},
   "source": [
    "Create function `rescale` that takes a Series as parameter. It should center the data and normalize it by dividing\n",
    "by 2$\\sigma$, where $\\sigma$ is the standard deviation. Return the rescaled Series."
   ]
  },
  {
   "cell_type": "code",
   "execution_count": 3,
   "metadata": {},
   "outputs": [],
   "source": [
    "# exercise 2\n",
    "# Put your solution here!\n",
    "def rescale(serie):\n",
    "    serie = pd.Series(serie)\n",
    "    mean = serie.mean()\n",
    "    std = serie.std()\n",
    "    s2 = serie.apply(lambda x: (x-mean)/(2*std))\n",
    "    return s2"
   ]
  },
  {
   "cell_type": "markdown",
   "metadata": {},
   "source": [
    "Add to the DataFrame the scaled versions of all the continuous variables (with function `rescale`). Add small letter `s` in front of the original variable name to get the name of the scaled variable. For instance, `AGE` -> `sAGE`."
   ]
  },
  {
   "cell_type": "code",
   "execution_count": 4,
   "metadata": {},
   "outputs": [],
   "source": [
    "# exercise 3\n",
    "# Put your solution here!\n",
    "fram2 = fram.copy()\n",
    "cont = ['AGE', 'FRW', 'SBP', 'SBP10', 'DBP', 'CHOL', 'CIG', 'CHD', 'DEATH', 'YRS_DTH']\n",
    "\n",
    "for col in cont:\n",
    "    colstr = 's' + col\n",
    "    fram[colstr] = rescale(fram2[col])\n"
   ]
  },
  {
   "cell_type": "markdown",
   "metadata": {},
   "source": [
    "Form a model that predicts systolic blood pressure using weight, gender, and cholesterol level as explanatory variables. Store the fitted model in variable named `fit`."
   ]
  },
  {
   "cell_type": "code",
   "execution_count": 5,
   "metadata": {},
   "outputs": [],
   "source": [
    "# exercise 4\n",
    "# Put your solution here!\n",
    "fit = smf.ols('SBP ~ sFRW + SEX + sCHOL', data=fram).fit()"
   ]
  },
  {
   "cell_type": "markdown",
   "metadata": {},
   "source": [
    "Add the variable AGE to the model and inspect the estimates of the coefficients using the `summary` method of the fitted model. Again use the name `fit` for the fitted model. (From now on assume that we always use the name `fit` for the variable of the fitted model.)"
   ]
  },
  {
   "cell_type": "code",
   "execution_count": 6,
   "metadata": {
    "scrolled": true
   },
   "outputs": [
    {
     "data": {
      "text/html": [
       "<table class=\"simpletable\">\n",
       "<caption>OLS Regression Results</caption>\n",
       "<tr>\n",
       "  <th>Dep. Variable:</th>           <td>SBP</td>       <th>  R-squared:         </th> <td>   0.146</td> \n",
       "</tr>\n",
       "<tr>\n",
       "  <th>Model:</th>                   <td>OLS</td>       <th>  Adj. R-squared:    </th> <td>   0.144</td> \n",
       "</tr>\n",
       "<tr>\n",
       "  <th>Method:</th>             <td>Least Squares</td>  <th>  F-statistic:       </th> <td>   59.39</td> \n",
       "</tr>\n",
       "<tr>\n",
       "  <th>Date:</th>             <td>Sat, 04 May 2019</td> <th>  Prob (F-statistic):</th> <td>2.44e-46</td> \n",
       "</tr>\n",
       "<tr>\n",
       "  <th>Time:</th>                 <td>22:47:11</td>     <th>  Log-Likelihood:    </th> <td> -6513.6</td> \n",
       "</tr>\n",
       "<tr>\n",
       "  <th>No. Observations:</th>      <td>  1394</td>      <th>  AIC:               </th> <td>1.304e+04</td>\n",
       "</tr>\n",
       "<tr>\n",
       "  <th>Df Residuals:</th>          <td>  1389</td>      <th>  BIC:               </th> <td>1.306e+04</td>\n",
       "</tr>\n",
       "<tr>\n",
       "  <th>Df Model:</th>              <td>     4</td>      <th>                     </th>     <td> </td>    \n",
       "</tr>\n",
       "<tr>\n",
       "  <th>Covariance Type:</th>      <td>nonrobust</td>    <th>                     </th>     <td> </td>    \n",
       "</tr>\n",
       "</table>\n",
       "<table class=\"simpletable\">\n",
       "<tr>\n",
       "       <td></td>          <th>coef</th>     <th>std err</th>      <th>t</th>      <th>P>|t|</th>  <th>[0.025</th>    <th>0.975]</th>  \n",
       "</tr>\n",
       "<tr>\n",
       "  <th>Intercept</th>   <td>  150.1695</td> <td>    0.974</td> <td>  154.221</td> <td> 0.000</td> <td>  148.259</td> <td>  152.080</td>\n",
       "</tr>\n",
       "<tr>\n",
       "  <th>SEX[T.male]</th> <td>   -4.3805</td> <td>    1.435</td> <td>   -3.053</td> <td> 0.002</td> <td>   -7.195</td> <td>   -1.566</td>\n",
       "</tr>\n",
       "<tr>\n",
       "  <th>sFRW</th>        <td>   16.9771</td> <td>    1.415</td> <td>   11.999</td> <td> 0.000</td> <td>   14.202</td> <td>   19.753</td>\n",
       "</tr>\n",
       "<tr>\n",
       "  <th>sCHOL</th>       <td>    4.2696</td> <td>    1.419</td> <td>    3.009</td> <td> 0.003</td> <td>    1.486</td> <td>    7.053</td>\n",
       "</tr>\n",
       "<tr>\n",
       "  <th>sAGE</th>        <td>    8.1332</td> <td>    1.400</td> <td>    5.810</td> <td> 0.000</td> <td>    5.387</td> <td>   10.879</td>\n",
       "</tr>\n",
       "</table>\n",
       "<table class=\"simpletable\">\n",
       "<tr>\n",
       "  <th>Omnibus:</th>       <td>321.087</td> <th>  Durbin-Watson:     </th> <td>   1.807</td> \n",
       "</tr>\n",
       "<tr>\n",
       "  <th>Prob(Omnibus):</th> <td> 0.000</td>  <th>  Jarque-Bera (JB):  </th> <td> 840.955</td> \n",
       "</tr>\n",
       "<tr>\n",
       "  <th>Skew:</th>          <td> 1.206</td>  <th>  Prob(JB):          </th> <td>2.45e-183</td>\n",
       "</tr>\n",
       "<tr>\n",
       "  <th>Kurtosis:</th>      <td> 5.944</td>  <th>  Cond. No.          </th> <td>    2.82</td> \n",
       "</tr>\n",
       "</table><br/><br/>Warnings:<br/>[1] Standard Errors assume that the covariance matrix of the errors is correctly specified."
      ],
      "text/plain": [
       "<class 'statsmodels.iolib.summary.Summary'>\n",
       "\"\"\"\n",
       "                            OLS Regression Results                            \n",
       "==============================================================================\n",
       "Dep. Variable:                    SBP   R-squared:                       0.146\n",
       "Model:                            OLS   Adj. R-squared:                  0.144\n",
       "Method:                 Least Squares   F-statistic:                     59.39\n",
       "Date:                Sat, 04 May 2019   Prob (F-statistic):           2.44e-46\n",
       "Time:                        22:47:11   Log-Likelihood:                -6513.6\n",
       "No. Observations:                1394   AIC:                         1.304e+04\n",
       "Df Residuals:                    1389   BIC:                         1.306e+04\n",
       "Df Model:                           4                                         \n",
       "Covariance Type:            nonrobust                                         \n",
       "===============================================================================\n",
       "                  coef    std err          t      P>|t|      [0.025      0.975]\n",
       "-------------------------------------------------------------------------------\n",
       "Intercept     150.1695      0.974    154.221      0.000     148.259     152.080\n",
       "SEX[T.male]    -4.3805      1.435     -3.053      0.002      -7.195      -1.566\n",
       "sFRW           16.9771      1.415     11.999      0.000      14.202      19.753\n",
       "sCHOL           4.2696      1.419      3.009      0.003       1.486       7.053\n",
       "sAGE            8.1332      1.400      5.810      0.000       5.387      10.879\n",
       "==============================================================================\n",
       "Omnibus:                      321.087   Durbin-Watson:                   1.807\n",
       "Prob(Omnibus):                  0.000   Jarque-Bera (JB):              840.955\n",
       "Skew:                           1.206   Prob(JB):                    2.45e-183\n",
       "Kurtosis:                       5.944   Cond. No.                         2.82\n",
       "==============================================================================\n",
       "\n",
       "Warnings:\n",
       "[1] Standard Errors assume that the covariance matrix of the errors is correctly specified.\n",
       "\"\"\""
      ]
     },
     "execution_count": 6,
     "metadata": {},
     "output_type": "execute_result"
    }
   ],
   "source": [
    "# exercise 5\n",
    "# Put your solution here!\n",
    "fit = smf.ols('SBP ~ sFRW + SEX + sCHOL + sAGE', data=fram).fit()\n",
    "fit.summary()"
   ]
  },
  {
   "cell_type": "markdown",
   "metadata": {},
   "source": [
    "How much does the inclusion of age increase the explanatory power of the model? Which variables explain the variance of the target variable most?\n",
    "\n",
    "***\n",
    "\n",
    "Your solution here\n",
    "\n",
    "The inclusion of age increases the models explanatory power by a very small margin, we can compare the results of R-squared, Adj. R-squared, AIC, BIC etc. and come to a conclusion that the difference is not significant. However it makes a tiny improvement.\n",
    "\n",
    "According to coefficients, weight it's the most important factor, then age is the next important factor. However, it is important to keep in mind how much do these variables vary and take it to account as well.\n",
    "***"
   ]
  },
  {
   "cell_type": "markdown",
   "metadata": {},
   "source": [
    "Try to add to the model all the interactions with other variables. "
   ]
  },
  {
   "cell_type": "code",
   "execution_count": 7,
   "metadata": {},
   "outputs": [],
   "source": [
    "# exercise 6\n",
    "# Put your solution here!\n",
    "temp = ['sFRW', 'SEX', 'sCHOL', 'sAGE']\n",
    "s = ''\n",
    "for w in temp:\n",
    "    for w2 in temp:\n",
    "        if w != w2:\n",
    "            s += w+':'+w2+' '\n",
    "            s+='+ '\n",
    "            \n",
    "s = 'SBP ~ sFRW + SEX + sCHOL + sAGE + ' + s\n",
    "s = s[0:len(s)-3]\n",
    "\n",
    "fit = smf.ols(s, data=fram).fit()"
   ]
  },
  {
   "cell_type": "markdown",
   "metadata": {},
   "source": [
    "Then visualize the model as the function of weight for the youngest (sAGE=-1.0), middle aged (sAGE=0.0), and oldest (sAGE=1.0) women while assuming the background variables to be centered. Remember to consider the changes in the intercept and in the regression coefficient caused by age. Visualize both the data points and the fitted lines."
   ]
  },
  {
   "cell_type": "code",
   "execution_count": 8,
   "metadata": {},
   "outputs": [
    {
     "data": {
      "text/plain": [
       "<matplotlib.legend.Legend at 0xc1ca68588>"
      ]
     },
     "execution_count": 8,
     "metadata": {},
     "output_type": "execute_result"
    },
    {
     "data": {
      "image/png": "[encoded data removed]",
      "text/plain": [
       "<Figure size 432x288 with 1 Axes>"
      ]
     },
     "metadata": {
      "needs_background": "light"
     },
     "output_type": "display_data"
    }
   ],
   "source": [
    "# exercise 7\n",
    "# Put your solution here!\n",
    "p = fit.params\n",
    "\n",
    "fram.plot.scatter(\"sFRW\", \"SBP\")\n",
    "\n",
    "int1 = p.Intercept - p[\"sAGE\"]\n",
    "int2 = p.Intercept\n",
    "int3 = p.Intercept + p[\"sAGE\"]\n",
    "\n",
    "slope1 = p.sFRW - p[\"sFRW:sAGE\"]\n",
    "slope2 = p.sFRW\n",
    "slope3 = p.sFRW + p[\"sFRW:sAGE\"]\n",
    "\n",
    "abline_plot(intercept=int1, slope=slope1, ax=plt.gca(), color=\"green\", label=\"female youngest\")\n",
    "abline_plot(intercept=int2, slope=slope2, ax=plt.gca(), color=\"yellow\", label=\"female middle aged\")\n",
    "abline_plot(intercept=int3, slope=slope3, ax=plt.gca(), color=\"red\", label=\"female oldest\")\n",
    "plt.legend()\n"
   ]
  },
  {
   "cell_type": "markdown",
   "metadata": {},
   "source": [
    "How does the dependence of blood pressure on weight change as a person gets older?\n",
    "***\n",
    "\n",
    "Your solution here.\n",
    "\n",
    "The dependence lowers as a person gets old, meaning that it lowers the significance of weight compared to bloodpressure when older. \n",
    "***"
   ]
  },
  {
   "cell_type": "markdown",
   "metadata": {},
   "source": [
    "### Even more accurate model\n",
    "\n",
    "Include the background variable `sCIG` from the data and its interactions. Visualize the model for systolic blood pressure as the function of the most important explanatory variable. Visualize separate lines for the small (-1.0), average (0.0), and large (1.0) values of `sCHOL`. Other variables can be assumed to be at their mean value."
   ]
  },
  {
   "cell_type": "code",
   "execution_count": 9,
   "metadata": {},
   "outputs": [
    {
     "data": {
      "text/plain": [
       "<matplotlib.legend.Legend at 0xc1caf4828>"
      ]
     },
     "execution_count": 9,
     "metadata": {},
     "output_type": "execute_result"
    },
    {
     "data": {
      "image/png": "[encoded data removed]",
      "text/plain": [
       "<Figure size 432x288 with 1 Axes>"
      ]
     },
     "metadata": {
      "needs_background": "light"
     },
     "output_type": "display_data"
    }
   ],
   "source": [
    "# exercise 8\n",
    "# Put your solution here!\n",
    "temp = ['sFRW', 'SEX', 'sCHOL', 'sAGE', 'sCIG']\n",
    "s = ''\n",
    "for w in temp:\n",
    "    for w2 in temp:\n",
    "        if w != w2:\n",
    "            s += w+':'+w2+' '\n",
    "            s+='+ '\n",
    "            \n",
    "s = 'SBP ~ sFRW + SEX + sCHOL + sAGE + sCIG + ' + s\n",
    "s = s[0:len(s)-3]\n",
    "\n",
    "fit = smf.ols(s, data=fram).fit()\n",
    "\n",
    "\n",
    "# We checked from fit.summary() that sFRW had the highest coefficient value\n",
    "# of all the variables, so it is the most important explanatory variable.\n",
    "\n",
    "p = fit.params\n",
    "\n",
    "fram.plot.scatter(\"sFRW\", \"SBP\")\n",
    "\n",
    "int1 = p.Intercept - p[\"sCHOL\"]\n",
    "int2 = p.Intercept\n",
    "int3 = p.Intercept + p[\"sCHOL\"]\n",
    "\n",
    "slope1 = p.sFRW - p[\"sFRW:sCHOL\"]\n",
    "slope2 = p.sFRW\n",
    "slope3 = p.sFRW + p[\"sFRW:sCHOL\"]\n",
    "\n",
    "abline_plot(intercept=int1, slope=slope1, ax=plt.gca(), color=\"green\", label=\"small cholesterole\")\n",
    "abline_plot(intercept=int2, slope=slope2, ax=plt.gca(), color=\"yellow\", label=\"average cholesterole\")\n",
    "abline_plot(intercept=int3, slope=slope3, ax=plt.gca(), color=\"red\", label=\"large cholesterole\")\n",
    "plt.legend()"
   ]
  },
  {
   "cell_type": "markdown",
   "metadata": {},
   "source": [
    "How does the model and its accuracy look?\n",
    "\n",
    "***\n",
    "\n",
    "Your solution here.\n",
    "\n",
    "Model does look reasonable, coefficients seem to correlate nicely compared to intuition. I am not sure what is meant by accuracy, but comparing AIC,BIC, R-squared etc. it is quite similar to the previous one.\n",
    "\n",
    "***"
   ]
  },
  {
   "cell_type": "markdown",
   "metadata": {},
   "source": [
    "# Logistic regression"
   ]
  },
  {
   "cell_type": "code",
   "execution_count": 10,
   "metadata": {},
   "outputs": [],
   "source": [
    "def logistic(x):\n",
    "    return 1.0 / (1.0 + np.exp(-x))"
   ]
  },
  {
   "cell_type": "markdown",
   "metadata": {},
   "source": [
    "We will continue predicting high blood pressure by taking in some continuous background variables, such as the age."
   ]
  },
  {
   "cell_type": "markdown",
   "metadata": {},
   "source": [
    "Recreate the model `HIGH_BP ~ sFRW + SEX + SEX:sFRW` presented in the introduction. Make sure, that you get the same results. Use name `fit` for the fitted model. Compute and store the error rate into variable `error_rate_orig`."
   ]
  },
  {
   "cell_type": "code",
   "execution_count": 11,
   "metadata": {},
   "outputs": [],
   "source": [
    "# exercise 9\n",
    "# Put your solution here!\n",
    "fram[\"HIGH_BP\"] = (fram.SBP >= 140) | (fram.DBP >= 90)\n",
    "fram.HIGH_BP = fram.HIGH_BP.astype('int', copy=False)\n",
    "\n",
    "fit = smf.glm(formula=\"HIGH_BP ~ sFRW + SEX + SEX:sFRW\", data=fram,\n",
    "family=sm.families.Binomial()).fit()\n",
    "\n",
    "error_rate_orig = np.mean(((fit.fittedvalues < 0.5) & fram.HIGH_BP) |\n",
    "((fit.fittedvalues > 0.5) & ~fram.HIGH_BP))\n"
   ]
  },
  {
   "cell_type": "markdown",
   "metadata": {},
   "source": [
    "Add the `sAGE` variable and its interactions. Check the prediction accuracy of the model and compare it to the previous model. Store the prediction accuracy to variable `error_rate`."
   ]
  },
  {
   "cell_type": "code",
   "execution_count": 12,
   "metadata": {},
   "outputs": [
    {
     "name": "stdout",
     "output_type": "stream",
     "text": [
      "Original error: 0.35581, New error: 0.32783\n"
     ]
    }
   ],
   "source": [
    "# exercise 10\n",
    "# Put your solution here!\n",
    "fit = smf.glm(formula=\"HIGH_BP ~ sFRW + SEX + SEX:sFRW + sAGE * SEX + sAGE:sFRW\", data=fram,\n",
    "family=sm.families.Binomial()).fit()\n",
    "\n",
    "error_rate = np.mean(((fit.fittedvalues < 0.5) & fram.HIGH_BP) |\n",
    "((fit.fittedvalues > 0.5) & ~fram.HIGH_BP))\n",
    "\n",
    "print('Original error: %0.5f, New error: %0.5f' % (error_rate_orig, error_rate))"
   ]
  },
  {
   "cell_type": "markdown",
   "metadata": {},
   "source": [
    "Visualize the predicted probability of high blood pressure as the function of weight. Remember to use normalized values (`rescale`) also for those variables that are not included in the visualization, so that sensible values are used for them (data average). Draw two figures with altogether six curves: young, middle aged, and old women; and young, middle aged, and old men. Use `plt.subplots`. (Plotting works in similar fashion as in the introduction. The argument factors need, however, be changed as in the example about visualisation of continuous variable.) "
   ]
  },
  {
   "cell_type": "code",
   "execution_count": 13,
   "metadata": {},
   "outputs": [
    {
     "data": {
      "text/plain": [
       "<matplotlib.legend.Legend at 0xc1cba1860>"
      ]
     },
     "execution_count": 13,
     "metadata": {},
     "output_type": "execute_result"
    },
    {
     "data": {
      "image/png": "[encoded data removed]",
      "text/plain": [
       "<Figure size 432x288 with 2 Axes>"
      ]
     },
     "metadata": {
      "needs_background": "light"
     },
     "output_type": "display_data"
    }
   ],
   "source": [
    "# exercise 11\n",
    "\n",
    "def logistic(x):\n",
    "    return 1.0 / (1.0 + np.exp(-x))\n",
    "\n",
    "# Put your solution here!\n",
    "p = fit.params\n",
    "X = np.linspace(-2,4,100)\n",
    "\n",
    "fig, ax = plt.subplots(nrows=1, ncols=2)\n",
    "\n",
    "ax[0].scatter(fram.sFRW[(fram.SEX==\"female\")],\n",
    "fram.HIGH_BP[(fram.SEX==\"female\")])\n",
    "ax[0].set_title(\"female\")\n",
    "\n",
    "ax[1].scatter(fram.sFRW[(fram.SEX==\"male\")],\n",
    "fram.HIGH_BP[(fram.SEX==\"male\")])\n",
    "ax[1].set_title(\"male\")\n",
    "\n",
    "plt.xlabel(\"Weight\")\n",
    "plt.ylabel(\"Pr(Has high BP)\")\n",
    "\n",
    "ax[0].plot(X, logistic(X*(p.sFRW) + p.Intercept - p[\"sAGE\"]), color='green', label=\"young\")\n",
    "ax[0].plot(X, logistic(X*(p.sFRW) + p.Intercept), color='yellow', label=\"middle aged\")\n",
    "ax[0].plot(X, logistic(X*(p.sFRW) + p.Intercept + p[\"sAGE\"]), color='red', label=\"old\")\n",
    "ax[0].legend()\n",
    "\n",
    "ax[1].plot(X, logistic(X*(p.sFRW + p[\"SEX[T.male]:sFRW\"] + p[\"sAGE:SEX[T.male]\"]) + p.Intercept - p[\"sAGE:SEX[T.male]\"]), color='green', label=\"young\")\n",
    "ax[1].plot(X, logistic(X*(p.sFRW + p[\"SEX[T.male]:sFRW\"] + p[\"sAGE:SEX[T.male]\"]) + p.Intercept), color='yellow', label=\"middle aged\")\n",
    "ax[1].plot(X, logistic(X*(p.sFRW + p[\"SEX[T.male]:sFRW\"] + p[\"sAGE:SEX[T.male]\"]) + p.Intercept + p[\"sAGE:SEX[T.male]\"]), color='red', label=\"old\")\n",
    "\n",
    "ax[1].legend()\n",
    "\n"
   ]
  },
  {
   "cell_type": "markdown",
   "metadata": {},
   "source": [
    "How do the models with different ages and genders differ from each other?\n",
    "\n",
    "***\n",
    "Your solution here.\n",
    "\n",
    "From the graphs it seems that females have a lower chance of high BP when younger. Generally females are more affected by weight compared to males.\n",
    "\n",
    "On the contrary to females, males seem to have a higher chance of high BP when younger but the difference between ages smallers when weight increases. \n",
    "Males also seem that they are affected less by weight in general.\n",
    "\n",
    "Comparing these graphs also shows that males have less high BP in the heavier side of the graph (blue diamonds).\n",
    "***\n"
   ]
  },
  {
   "cell_type": "markdown",
   "metadata": {},
   "source": [
    "Create here a helper function `train_test_split` that gets a DataFrame as parameter and return a pair of DataFrames: one for training and the second for testing. \n",
    "The function should get parameters in the following way:\n",
    "```python\n",
    "train_test_split(df, train_fraction=0.8)\n",
    "```\n",
    "The data should be split randomly to training and testing DataFrames so that `train_fraction` fraction of data should go into the training set. Use the `sample` method of the DataFrame."
   ]
  },
  {
   "cell_type": "code",
   "execution_count": 14,
   "metadata": {},
   "outputs": [],
   "source": [
    "# exercise 12\n",
    "# Put your solution here!\n",
    "def train_test_split(df, train_fraction=0.8):\n",
    "    train = df.sample(frac=train_fraction)\n",
    "    test = df.drop(train.index)\n",
    "    \n",
    "    return train,test\n",
    "    "
   ]
  },
  {
   "cell_type": "markdown",
   "metadata": {},
   "source": [
    "Check the prediction accuracy of your model using cross validation. Use 100-fold cross validation and training_fraction 0.8."
   ]
  },
  {
   "cell_type": "code",
   "execution_count": 15,
   "metadata": {},
   "outputs": [
    {
     "name": "stdout",
     "output_type": "stream",
     "text": [
      "Mean model error: 0.33118, Mean null error: 0.34885\n"
     ]
    }
   ],
   "source": [
    "# exercise 13\n",
    "np.random.seed(1)\n",
    "# Put your solution here!\n",
    "error_model=[]\n",
    "error_null=[]\n",
    "for i in range(100):\n",
    "    train, test = train_test_split(fram)\n",
    "    fit = smf.glm(formula=\"HIGH_BP ~ sFRW + SEX + SEX:sFRW + sAGE * SEX + sAGE:sFRW\", data=train,\n",
    "    family=sm.families.Binomial()).fit()\n",
    "    \n",
    "    pred = fit.predict(test, transform=True)\n",
    "    error_rate = np.mean(((pred < 0.5) & (test.HIGH_BP==1)) |\n",
    "                        ((pred > 0.5) & (test.HIGH_BP==0)))\n",
    "    error_model.append(error_rate)\n",
    "    error_null.append((1-test.HIGH_BP).mean())\n",
    "\n",
    "print(\"Mean model error: %0.5f, Mean null error: %0.5f\" % (pd.Series(error_model).mean(), pd.Series(error_null).mean()))"
   ]
  },
  {
   "cell_type": "markdown",
   "metadata": {},
   "source": [
    "## Predicting coronary heart disease\n",
    "\n",
    "Let us use again the same data to learn a model for the occurrence of coronary heart disease. We will use logistic regression to predict whether a patient *sometimes* shows symptoms of coronary heart disease. For this, add to the data a binary variable `hasCHD`, that describes the event (`CHD > 0`). The binary variable `hadCHD` can get only two values: 0 or 1. As a sanity check, compute the mean of this variable, which tells the number of positive cases."
   ]
  },
  {
   "cell_type": "code",
   "execution_count": 16,
   "metadata": {},
   "outputs": [],
   "source": [
    "# exercise 14\n",
    "# Put your solution here!\n",
    "fram['hasCHD'] = fram.CHD > 0\n",
    "fram.hasCHD = fram.hasCHD.astype('int', copy=False)"
   ]
  },
  {
   "cell_type": "markdown",
   "metadata": {},
   "source": [
    "Next, form a logistic regression model for variable `hasCHD` by using variables sCHOL, sCIG, and sFRW, and their interactions as explanatory variables. Store the fitted model to variable `fit`. Compute the prediction accuracy of the model, store it to variable `error_rate`."
   ]
  },
  {
   "cell_type": "code",
   "execution_count": 17,
   "metadata": {},
   "outputs": [],
   "source": [
    "# exercise 15\n",
    "# Put your solution here!\n",
    "temp = ['sFRW', 'sCHOL', 'sCIG']\n",
    "s = ''\n",
    "for w in temp:\n",
    "    for w2 in temp:\n",
    "        if w != w2:\n",
    "            s += w+':'+w2+' '\n",
    "            s+='+ '\n",
    "            \n",
    "s = 'hasCHD ~ sFRW + sCHOL + sCIG + ' + s\n",
    "s = s[0:len(s)-3]\n",
    "\n",
    "fit = smf.glm(formula=s, data=fram,\n",
    "    family=sm.families.Binomial()).fit()\n",
    "\n",
    "error_rate =  np.mean(((fit.fittedvalues < 0.5) & fram.hasCHD) |\n",
    "                        ((fit.fittedvalues > 0.5) & ~fram.hasCHD))\n"
   ]
  },
  {
   "cell_type": "markdown",
   "metadata": {},
   "source": [
    "Visualize the model by using the most important explanator on the x axis. Visualize both the points (with `plt.scatter`)\n",
    "and the logistic curve (with `plt.plot`)."
   ]
  },
  {
   "cell_type": "code",
   "execution_count": 18,
   "metadata": {},
   "outputs": [
    {
     "data": {
      "text/plain": [
       "[<matplotlib.lines.Line2D at 0xc1ca8c438>]"
      ]
     },
     "execution_count": 18,
     "metadata": {},
     "output_type": "execute_result"
    },
    {
     "data": {
      "image/png": "[encoded data removed]",
      "text/plain": [
       "<Figure size 432x288 with 1 Axes>"
      ]
     },
     "metadata": {
      "needs_background": "light"
     },
     "output_type": "display_data"
    }
   ],
   "source": [
    "# exercise 16\n",
    "def logistic(x):\n",
    "    return 1.0 / (1.0 + np.exp(-x))\n",
    "# Put your solution here!\n",
    "p = fit.params\n",
    "X = np.linspace(-1,3,100)\n",
    "plt.scatter(fram[\"sCIG\"], fram[\"hasCHD\"] + np.random.uniform(-0.10, 0.10, len(fram)), marker = \".\")\n",
    "plt.plot(X, logistic(X*(p.sCIG) + p.Intercept), color=\"red\")\n"
   ]
  },
  {
   "cell_type": "markdown",
   "metadata": {},
   "source": [
    "Is the prediction accuracy of the model good or bad? Can we expect to have practical use of the model?\n",
    "***\n",
    "Your solution here.\n",
    "\n",
    "Considering error rate being 22% it can give pretty good generalizations of what are the risk factors for having CHD. It can give pretty good predictions so I think it could be used somewhere in practise.\n",
    "***\n"
   ]
  },
  {
   "cell_type": "markdown",
   "metadata": {},
   "source": [
    "If a person has cholestherol 200, smokes 17 cigarets per day, and has weight 100, then what is the probability that he/she sometimes shows signs of coronal hear disease? Note that the model expects normalized values. Store the normalized values to dictionary called `point`. Store the probability in variable `predicted`."
   ]
  },
  {
   "cell_type": "code",
   "execution_count": 19,
   "metadata": {},
   "outputs": [
    {
     "name": "stdout",
     "output_type": "stream",
     "text": [
      "0.2161579953939318\n"
     ]
    }
   ],
   "source": [
    "# exercise 17\n",
    "# Put your solution here!\n",
    "vals = pd.DataFrame([[200,17,100]],columns=['sCHOL', 'sCIG', 'sFRW'])\n",
    "\n",
    "point = {}\n",
    "for ind in vals:\n",
    "    col = ind[1:]\n",
    "    temp = fram[col].append(vals[ind])\n",
    "    point[ind] = rescale(temp).iloc[-1]\n",
    "\n",
    "predicted = fit.predict(point).iloc[0]\n",
    "print(predicted)"
   ]
  }
 ],
 "metadata": {
  "kernelspec": {
   "display_name": "Python 3",
   "language": "python",
   "name": "python3"
  },
  "language_info": {
   "codemirror_mode": {
    "name": "ipython",
    "version": 3
   },
   "file_extension": ".py",
   "mimetype": "text/x-python",
   "name": "python",
   "nbconvert_exporter": "python",
   "pygments_lexer": "ipython3",
   "version": "3.7.3"
  }
 },
 "nbformat": 4,
 "nbformat_minor": 2
}
